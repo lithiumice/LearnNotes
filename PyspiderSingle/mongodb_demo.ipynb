{
 "cells": [
  {
   "cell_type": "code",
   "execution_count": 2,
   "metadata": {
    "collapsed": true
   },
   "outputs": [],
   "source": [
    "import pymongo\n",
    "client=pymongo.MongoClient()"
   ]
  },
  {
   "cell_type": "code",
   "execution_count": 4,
   "metadata": {},
   "outputs": [],
   "source": [
    "question=client.qa_system.question"
   ]
  },
  {
   "cell_type": "code",
   "execution_count": 5,
   "metadata": {},
   "outputs": [],
   "source": [
    "answer=client.qa_system.answer"
   ]
  },
  {
   "cell_type": "code",
   "execution_count": 7,
   "metadata": {},
   "outputs": [],
   "source": [
    "answer_list=question.aggregate([{\n",
    "    '$lookup':{\n",
    "        'from':'answer',\n",
    "        'localField':'_id',\n",
    "        'foreignField':'question_id',\n",
    "        'as':'answer_list'\n",
    "    }\n",
    "}])"
   ]
  },
  {
   "cell_type": "code",
   "execution_count": 10,
   "metadata": {},
   "outputs": [
    {
     "data": {
      "text/plain": [
       "[{'_id': ObjectId('5c736f698b85a61a1e4278c5'),\n  'author': '王小一',\n  'title': '1+1=?',\n  'detail': '请问1+1等于几？',\n  'ask_time': '2018-07-23 12:18:11',\n  'vote_up': 0,\n  'vote_down': 100,\n  'answer_list': []},\n {'_id': ObjectId('5c736f698b85a61a1e4278c6'),\n  'author': '张小二',\n  'title': '为什么说42 is the answer of all?',\n  'detail': '这句话出自哪里？',\n  'ask_time': '2018-07-23 12:18:11',\n  'vote_up': 100,\n  'vote_down': 0,\n  'answer_list': []},\n {'_id': ObjectId('5c736f698b85a61a1e4278c7'),\n  'author': '刘小三',\n  'title': '明天天气如何？',\n  'detail': '明天会下雨吗？',\n  'ask_time': '2018-07-23 12:18:11',\n  'vote_up': 10,\n  'vote_down': 10,\n  'answer_list': []},\n {'_id': ObjectId('5c736f698b85a61a1e4278c8'),\n  'author': '旺小四',\n  'title': '此时相忘不相闻下一句是什么?',\n  'detail': '还有，这是谁写的诗？',\n  'ask_time': '2018-07-23 12:18:11',\n  'vote_up': 100,\n  'vote_down': 3,\n  'answer_list': []},\n {'_id': ObjectId('5c736f698b85a61a1e4278c9'),\n  'author': '赵小五',\n  'title': '把微波炉温度调低一些，可以孵鸡蛋吗？',\n  'detail': '孵蛋除了温度还需要什么？',\n  'ask_time': '2018-07-23 12:18:11',\n  'vote_up': 23,\n  'vote_down': 3,\n  'answer_list': []},\n {'_id': ObjectId('5c736f698b85a61a1e4278ca'),\n  'author': '朱小六',\n  'title': '四大名著你喜欢哪一本？',\n  'detail': '请回答具体原因。',\n  'ask_time': '2018-07-23 12:18:11',\n  'vote_up': 70,\n  'vote_down': 2,\n  'answer_list': []},\n {'_id': ObjectId('5c736f698b85a61a1e4278cb'),\n  'author': '马小七',\n  'title': '你知道明朝时期的四大名著，除了《西游记》《水浒传》和《三国演义》还有一本是什么吗？',\n  'detail': '这本书的作者又是是呢？',\n  'ask_time': '2018-07-23 12:18:11',\n  'vote_up': 120,\n  'vote_down': 16,\n  'answer_list': []}]"
      ]
     },
     "execution_count": 10,
     "metadata": {},
     "output_type": "execute_result"
    }
   ],
   "source": [
    "list(answer_list)\n"
   ]
  },
  {
   "cell_type": "code",
   "execution_count": null,
   "metadata": {},
   "outputs": [],
   "source": []
  }
 ],
 "metadata": {
  "kernelspec": {
   "display_name": "Python 2",
   "language": "python",
   "name": "python2"
  },
  "language_info": {
   "codemirror_mode": {
    "name": "ipython",
    "version": 2
   },
   "file_extension": ".py",
   "mimetype": "text/x-python",
   "name": "python",
   "nbconvert_exporter": "python",
   "pygments_lexer": "ipython2",
   "version": "2.7.6"
  }
 },
 "nbformat": 4,
 "nbformat_minor": 0
}
